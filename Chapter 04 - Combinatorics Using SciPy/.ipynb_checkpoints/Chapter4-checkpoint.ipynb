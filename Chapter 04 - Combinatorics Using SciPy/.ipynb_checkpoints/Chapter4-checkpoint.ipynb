{
  "cells": [
    {
      "cell_type": "markdown",
      "metadata": {
        "id": "sVIRFpGu0Ltp"
      },
      "source": [
        "# Chapter 4 - Combinatorics Using SciPy\n",
        "\n",
        "This notebook contains code accompanying Chapter 4 Combinatorics Using SciPy in *Practical Discrete Mathematics* by Ryan T. White and Archana Tikayat Ray.\n",
        "\n",
        "## Counting Permutations and Combinations of Objects\n",
        "\n",
        "### Growth of Factorials\n",
        "\n",
        "Below, we compute some factorials, which count permutations."
      ]
    },
    {
      "cell_type": "code",
      "execution_count": 3,
      "metadata": {
        "id": "JMWbsfow0Ltt",
        "outputId": "466d0a96-c15d-401e-c23b-35db294b4811",
        "colab": {
          "base_uri": "https://localhost:8080/"
        }
      },
      "outputs": [
        {
          "output_type": "stream",
          "name": "stdout",
          "text": [
            "120\n",
            "3628800\n"
          ]
        }
      ],
      "source": [
        "import math\n",
        "print(math.factorial(5))\n",
        "print(math.factorial(10))"
      ]
    },
    {
      "cell_type": "markdown",
      "metadata": {
        "id": "kp5ZbvSH0Ltw"
      },
      "source": [
        "### Example: Counting playlists\n",
        "\n",
        "The number of 10-permutations of the 20-song list can be computed with Python as follows."
      ]
    },
    {
      "cell_type": "code",
      "execution_count": null,
      "metadata": {
        "id": "6sUHDM0R0Ltw",
        "outputId": "e51409fa-620c-425c-b3fd-5ee005a71288"
      },
      "outputs": [
        {
          "name": "stdout",
          "output_type": "stream",
          "text": [
            "670442572800.0\n"
          ]
        }
      ],
      "source": [
        "import math\n",
        "print(math.factorial(20)/math.factorial(20-10))"
      ]
    },
    {
      "cell_type": "markdown",
      "metadata": {
        "id": "mBt3f5-a0Ltx"
      },
      "source": [
        "### Example: Teambuilding\n",
        "\n",
        "The code below finds the number of possible 4-person teams we could build from four of twenty people."
      ]
    },
    {
      "cell_type": "code",
      "execution_count": null,
      "metadata": {
        "id": "HEdvzMYw0Lty",
        "outputId": "ba6234bd-74b6-4a0d-c0d5-fb0c36903449"
      },
      "outputs": [
        {
          "name": "stdout",
          "output_type": "stream",
          "text": [
            "4845.0\n",
            "4845.0\n"
          ]
        }
      ],
      "source": [
        "# using the factorial function\n",
        "import math\n",
        "print(math.factorial(20) / math.factorial(4) / math.factorial(20-4))\n",
        "\n",
        "# import the special functions from sciPy\n",
        "import scipy.special\n",
        "print(scipy.special.binom(20,4))"
      ]
    },
    {
      "cell_type": "markdown",
      "metadata": {
        "id": "GgTVGDvF0Lty"
      },
      "source": [
        "## Applications to Memory Allocation\n",
        "\n",
        "### Example: Pre-allocating Memory\n",
        "\n",
        "Suppose we wish to create a large list of 1,000,000 numbers. The simplest way is to just run a loop, adding one element at a time to the vector. (Note that the runtime will vary depending on the hardware where you run the code.)"
      ]
    },
    {
      "cell_type": "code",
      "execution_count": null,
      "metadata": {
        "id": "S17J-nXu0Ltz",
        "outputId": "845f6733-101f-4d9e-d252-74301a08856e"
      },
      "outputs": [
        {
          "name": "stdout",
          "output_type": "stream",
          "text": [
            "0.13155269622802734\n"
          ]
        }
      ],
      "source": [
        "import time\n",
        "\n",
        "number = 1000000\n",
        "\n",
        "# Check the current time\n",
        "startTime = time.time()\n",
        "\n",
        "# Create an empty list\n",
        "list = []\n",
        "\n",
        "# Add items to the list one by one\n",
        "for counter in range(number):\n",
        "    list.append(counter)\n",
        "\n",
        "# Display the run time\n",
        "print(time.time() - startTime)"
      ]
    },
    {
      "cell_type": "markdown",
      "metadata": {
        "id": "_FFcej6Z0Ltz"
      },
      "source": [
        "The code below can pre-allocate an array with 1,000,000 and fill it in with 1, 2, ..., 1,000,000. (Note that the runtime will vary depending on the hardware where you run the code.)"
      ]
    },
    {
      "cell_type": "code",
      "execution_count": null,
      "metadata": {
        "id": "CFF8l75L0Ltz",
        "outputId": "e10bd252-d4eb-49db-b3e1-9c6e7ed2c061"
      },
      "outputs": [
        {
          "name": "stdout",
          "output_type": "stream",
          "text": [
            "0.10027527809143066\n"
          ]
        }
      ],
      "source": [
        "import time\n",
        "number = 1000000\n",
        "\n",
        "# Check the current time\n",
        "startTime = time.time()\n",
        "\n",
        "# Create a list of 1000000 zeros\n",
        "list = [None]*number\n",
        "\n",
        "# Add items to the list one by one\n",
        "for counter in range(number):\n",
        "    list[counter] = counter\n",
        "\n",
        "# Display the run time\n",
        "print(time.time() - startTime)"
      ]
    },
    {
      "cell_type": "markdown",
      "metadata": {
        "id": "DTcHnxwx0Lt0"
      },
      "source": [
        "## Efficacy of Brute Force Algorithms\n",
        "\n",
        "### Example: Caesar Cipher\n",
        "\n",
        "A brute force check of how the text would be decoded for each possible Caesar cipher."
      ]
    },
    {
      "cell_type": "code",
      "execution_count": 4,
      "metadata": {
        "collapsed": true,
        "id": "2XN8jIQa0Lt0",
        "outputId": "87b2d4ae-5d65-4207-dd7d-f5545ab3c16c",
        "colab": {
          "base_uri": "https://localhost:8080/"
        }
      },
      "outputs": [
        {
          "output_type": "stream",
          "name": "stdout",
          "text": [
            "0 nzohfu gur rarzl ng avtug\n",
            "1 oapigv hvs sbsam oh bwuvh\n",
            "2 pbqjhw iwt tctbn pi cxvwi\n",
            "3 qcrkix jxu uduco qj dywxj\n",
            "4 rdsljy kyv vevdp rk ezxyk\n",
            "5 setmkz lzw wfweq sl fayzl\n",
            "6 tfunla max xgxfr tm gbzam\n",
            "7 ugvomb nby yhygs un hcabn\n",
            "8 vhwpnc ocz zizht vo idbco\n",
            "9 wixqod pda ajaiu wp jecdp\n",
            "10 xjyrpe qeb bkbjv xq kfdeq\n",
            "11 ykzsqf rfc clckw yr lgefr\n",
            "12 zlatrg sgd dmdlx zs mhfgs\n",
            "13 ambush the enemy at night\n",
            "14 bncvti uif fofnz bu ojhiu\n",
            "15 codwuj vjg gpgoa cv pkijv\n",
            "16 dpexvk wkh hqhpb dw qljkw\n",
            "17 eqfywl xli iriqc ex rmklx\n",
            "18 frgzxm ymj jsjrd fy snlmy\n",
            "19 gshayn znk ktkse gz tomnz\n",
            "20 htibzo aol lultf ha upnoa\n",
            "21 iujcap bpm mvmug ib vqopb\n",
            "22 jvkdbq cqn nwnvh jc wrpqc\n",
            "23 kwlecr dro oxowi kd xsqrd\n",
            "24 lxmfds esp pypxj le ytrse\n",
            "25 mynget ftq qzqyk mf zustf\n"
          ]
        }
      ],
      "source": [
        "# Intercepted message\n",
        "codedMessage = 'nzohfu gur rarzl ng avtug'\n",
        "\n",
        "# We will shift by 0, shift by 1, shift by 2, ... and print the results\n",
        "for counter in range(26):\n",
        "    # Start with no guess\n",
        "    guessedMessage = ''\n",
        "\n",
        "    # Loop through each letter in the coded message\n",
        "    for x in codedMessage:\n",
        "\n",
        "        # If x is not a space\n",
        "        if x != ' ':\n",
        "\n",
        "            # Shift the letter forward by counter\n",
        "            if ord(x)+counter <= 122:\n",
        "                x = chr(ord(x)+counter)\n",
        "\n",
        "            # Subtract 26 if we go beyond z\n",
        "            else:\n",
        "                x = chr(ord(x)+counter-26)\n",
        "\n",
        "        # Build a guess for the message one letter at a time\n",
        "        guessedMessage = guessedMessage + x\n",
        "\n",
        "    # Print the counter (the shift) and the message\n",
        "    print(counter, guessedMessage)\n"
      ]
    },
    {
      "cell_type": "markdown",
      "metadata": {
        "id": "d5F64D-Q0Lt1"
      },
      "source": [
        "Clearly, the length of the shift is 13 letters as only this one produces an intelligible message."
      ]
    },
    {
      "cell_type": "markdown",
      "source": [
        "Given the following ariginal and decrypted words, write a Python function to determine the possible cipher keys used in a Caesar cipher. The function should ignore any non-alphabetic characters in the words.\n",
        "\n",
        "Original Word: \"S3CURE!”\n",
        "\n",
        "Decrypted Word:\"V3FZWH!\"\n",
        "\n",
        "What are the possible keys, and how would you implement this in Python?"
      ],
      "metadata": {
        "id": "GyT18BO37IJX"
      }
    },
    {
      "cell_type": "code",
      "source": [
        "codedMessage = 'S3CURE!'\n",
        "possible_keys = set()\n",
        "\n",
        "# We will shift by 0, shift by 1, shift by 2, ... and print the results\n",
        "for counter in range(26):\n",
        "    # Start with no guess\n",
        "    guessedMessage = ''\n",
        "\n",
        "    # Loop through each letter in the coded message\n",
        "    for x in codedMessage:\n",
        "\n",
        "        # If x is an alphabetic character\n",
        "        if x.isalpha():\n",
        "            shift = ord(x) + counter\n",
        "\n",
        "            # Wrap around for lowercase letters\n",
        "            if x.islower():\n",
        "                if shift > ord('z'):\n",
        "                    shift -= 26\n",
        "            # Wrap around for uppercase letters\n",
        "            elif x.isupper():\n",
        "                if shift > ord('Z'):\n",
        "                    shift -= 26\n",
        "\n",
        "            x = chr(shift)\n",
        "\n",
        "        # Build a guess for the message one letter at a time\n",
        "        guessedMessage = guessedMessage + x\n",
        "\n",
        "    # Print the counter (the shift) and the message\n",
        "    print(counter, guessedMessage)\n",
        "\n",
        "\n"
      ],
      "metadata": {
        "id": "K-i4fP3r_5d1",
        "outputId": "a2231ddb-1881-44b8-eb22-59595efa7370",
        "colab": {
          "base_uri": "https://localhost:8080/"
        }
      },
      "execution_count": 43,
      "outputs": [
        {
          "output_type": "stream",
          "name": "stdout",
          "text": [
            "0 S3CURE!\n",
            "1 T3DVSF!\n",
            "2 U3EWTG!\n",
            "3 V3FXUH!\n",
            "4 W3GYVI!\n",
            "5 X3HZWJ!\n",
            "6 Y3IAXK!\n",
            "7 Z3JBYL!\n",
            "8 A3KCZM!\n",
            "9 B3LDAN!\n",
            "10 C3MEBO!\n",
            "11 D3NFCP!\n",
            "12 E3OGDQ!\n",
            "13 F3PHER!\n",
            "14 G3QIFS!\n",
            "15 H3RJGT!\n",
            "16 I3SKHU!\n",
            "17 J3TLIV!\n",
            "18 K3UMJW!\n",
            "19 L3VNKX!\n",
            "20 M3WOLY!\n",
            "21 N3XPMZ!\n",
            "22 O3YQNA!\n",
            "23 P3ZROB!\n",
            "24 Q3ASPC!\n",
            "25 R3BTQD!\n"
          ]
        }
      ]
    }
  ],
  "metadata": {
    "kernelspec": {
      "display_name": "Python 3",
      "name": "python3"
    },
    "language_info": {
      "name": "python"
    },
    "colab": {
      "provenance": []
    }
  },
  "nbformat": 4,
  "nbformat_minor": 0
}